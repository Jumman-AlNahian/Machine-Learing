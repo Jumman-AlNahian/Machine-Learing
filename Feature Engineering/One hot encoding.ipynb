{
 "cells": [
  {
   "cell_type": "code",
   "execution_count": 9,
   "id": "1aa3666e-d6a6-4797-bc65-eafe0d4ca41a",
   "metadata": {},
   "outputs": [],
   "source": [
    "import pandas as pd"
   ]
  },
  {
   "cell_type": "code",
   "execution_count": 10,
   "id": "a63850a2-bcdd-4aee-a030-c86f14ebb332",
   "metadata": {},
   "outputs": [],
   "source": [
    "movies={\n",
    "    'Movie_Cetagories':['Hollywood','Dallywood', 'Bollywood','Turky','Bangla','English']\n",
    "}"
   ]
  },
  {
   "cell_type": "code",
   "execution_count": 11,
   "id": "81b44624-4e2e-4b82-b757-9d02fdf6c938",
   "metadata": {},
   "outputs": [
    {
     "data": {
      "text/plain": [
       "{'Movie_Cetagories': ['Hollywood',\n",
       "  'Dallywood',\n",
       "  'Bollywood',\n",
       "  'Turky',\n",
       "  'Bangla',\n",
       "  'English']}"
      ]
     },
     "execution_count": 11,
     "metadata": {},
     "output_type": "execute_result"
    }
   ],
   "source": [
    "movies"
   ]
  },
  {
   "cell_type": "code",
   "execution_count": 12,
   "id": "d87a3a25-4c0b-4f6e-8d9f-025291eb3d0c",
   "metadata": {},
   "outputs": [],
   "source": [
    "df=pd.DataFrame(movies)"
   ]
  },
  {
   "cell_type": "code",
   "execution_count": 13,
   "id": "d6e86cdc-f24e-4297-ad65-fa22f4fa78e4",
   "metadata": {},
   "outputs": [
    {
     "data": {
      "text/html": [
       "<div>\n",
       "<style scoped>\n",
       "    .dataframe tbody tr th:only-of-type {\n",
       "        vertical-align: middle;\n",
       "    }\n",
       "\n",
       "    .dataframe tbody tr th {\n",
       "        vertical-align: top;\n",
       "    }\n",
       "\n",
       "    .dataframe thead th {\n",
       "        text-align: right;\n",
       "    }\n",
       "</style>\n",
       "<table border=\"1\" class=\"dataframe\">\n",
       "  <thead>\n",
       "    <tr style=\"text-align: right;\">\n",
       "      <th></th>\n",
       "      <th>Movie_Cetagories</th>\n",
       "    </tr>\n",
       "  </thead>\n",
       "  <tbody>\n",
       "    <tr>\n",
       "      <th>0</th>\n",
       "      <td>Hollywood</td>\n",
       "    </tr>\n",
       "    <tr>\n",
       "      <th>1</th>\n",
       "      <td>Dallywood</td>\n",
       "    </tr>\n",
       "    <tr>\n",
       "      <th>2</th>\n",
       "      <td>Bollywood</td>\n",
       "    </tr>\n",
       "    <tr>\n",
       "      <th>3</th>\n",
       "      <td>Turky</td>\n",
       "    </tr>\n",
       "    <tr>\n",
       "      <th>4</th>\n",
       "      <td>Bangla</td>\n",
       "    </tr>\n",
       "    <tr>\n",
       "      <th>5</th>\n",
       "      <td>English</td>\n",
       "    </tr>\n",
       "  </tbody>\n",
       "</table>\n",
       "</div>"
      ],
      "text/plain": [
       "  Movie_Cetagories\n",
       "0        Hollywood\n",
       "1        Dallywood\n",
       "2        Bollywood\n",
       "3            Turky\n",
       "4           Bangla\n",
       "5          English"
      ]
     },
     "execution_count": 13,
     "metadata": {},
     "output_type": "execute_result"
    }
   ],
   "source": [
    "df"
   ]
  },
  {
   "cell_type": "code",
   "execution_count": 17,
   "id": "b7fe26e0-ffe4-4dbd-afd4-b065acf652ae",
   "metadata": {},
   "outputs": [],
   "source": [
    "encoding=pd.get_dummies(df, columns=['Movie_Cetagories'])"
   ]
  },
  {
   "cell_type": "code",
   "execution_count": 18,
   "id": "716650d3-cc73-49d6-87e9-09667c4a34ba",
   "metadata": {},
   "outputs": [
    {
     "data": {
      "text/html": [
       "<div>\n",
       "<style scoped>\n",
       "    .dataframe tbody tr th:only-of-type {\n",
       "        vertical-align: middle;\n",
       "    }\n",
       "\n",
       "    .dataframe tbody tr th {\n",
       "        vertical-align: top;\n",
       "    }\n",
       "\n",
       "    .dataframe thead th {\n",
       "        text-align: right;\n",
       "    }\n",
       "</style>\n",
       "<table border=\"1\" class=\"dataframe\">\n",
       "  <thead>\n",
       "    <tr style=\"text-align: right;\">\n",
       "      <th></th>\n",
       "      <th>Movie_Cetagories_Bangla</th>\n",
       "      <th>Movie_Cetagories_Bollywood</th>\n",
       "      <th>Movie_Cetagories_Dallywood</th>\n",
       "      <th>Movie_Cetagories_English</th>\n",
       "      <th>Movie_Cetagories_Hollywood</th>\n",
       "      <th>Movie_Cetagories_Turky</th>\n",
       "    </tr>\n",
       "  </thead>\n",
       "  <tbody>\n",
       "    <tr>\n",
       "      <th>0</th>\n",
       "      <td>False</td>\n",
       "      <td>False</td>\n",
       "      <td>False</td>\n",
       "      <td>False</td>\n",
       "      <td>True</td>\n",
       "      <td>False</td>\n",
       "    </tr>\n",
       "    <tr>\n",
       "      <th>1</th>\n",
       "      <td>False</td>\n",
       "      <td>False</td>\n",
       "      <td>True</td>\n",
       "      <td>False</td>\n",
       "      <td>False</td>\n",
       "      <td>False</td>\n",
       "    </tr>\n",
       "    <tr>\n",
       "      <th>2</th>\n",
       "      <td>False</td>\n",
       "      <td>True</td>\n",
       "      <td>False</td>\n",
       "      <td>False</td>\n",
       "      <td>False</td>\n",
       "      <td>False</td>\n",
       "    </tr>\n",
       "    <tr>\n",
       "      <th>3</th>\n",
       "      <td>False</td>\n",
       "      <td>False</td>\n",
       "      <td>False</td>\n",
       "      <td>False</td>\n",
       "      <td>False</td>\n",
       "      <td>True</td>\n",
       "    </tr>\n",
       "    <tr>\n",
       "      <th>4</th>\n",
       "      <td>True</td>\n",
       "      <td>False</td>\n",
       "      <td>False</td>\n",
       "      <td>False</td>\n",
       "      <td>False</td>\n",
       "      <td>False</td>\n",
       "    </tr>\n",
       "    <tr>\n",
       "      <th>5</th>\n",
       "      <td>False</td>\n",
       "      <td>False</td>\n",
       "      <td>False</td>\n",
       "      <td>True</td>\n",
       "      <td>False</td>\n",
       "      <td>False</td>\n",
       "    </tr>\n",
       "  </tbody>\n",
       "</table>\n",
       "</div>"
      ],
      "text/plain": [
       "   Movie_Cetagories_Bangla  Movie_Cetagories_Bollywood  \\\n",
       "0                    False                       False   \n",
       "1                    False                       False   \n",
       "2                    False                        True   \n",
       "3                    False                       False   \n",
       "4                     True                       False   \n",
       "5                    False                       False   \n",
       "\n",
       "   Movie_Cetagories_Dallywood  Movie_Cetagories_English  \\\n",
       "0                       False                     False   \n",
       "1                        True                     False   \n",
       "2                       False                     False   \n",
       "3                       False                     False   \n",
       "4                       False                     False   \n",
       "5                       False                      True   \n",
       "\n",
       "   Movie_Cetagories_Hollywood  Movie_Cetagories_Turky  \n",
       "0                        True                   False  \n",
       "1                       False                   False  \n",
       "2                       False                   False  \n",
       "3                       False                    True  \n",
       "4                       False                   False  \n",
       "5                       False                   False  "
      ]
     },
     "execution_count": 18,
     "metadata": {},
     "output_type": "execute_result"
    }
   ],
   "source": [
    "encoding"
   ]
  },
  {
   "cell_type": "code",
   "execution_count": null,
   "id": "28488b83-9913-4322-9eb3-f18d7cb0a166",
   "metadata": {},
   "outputs": [],
   "source": []
  }
 ],
 "metadata": {
  "kernelspec": {
   "display_name": "Python 3 (ipykernel)",
   "language": "python",
   "name": "python3"
  },
  "language_info": {
   "codemirror_mode": {
    "name": "ipython",
    "version": 3
   },
   "file_extension": ".py",
   "mimetype": "text/x-python",
   "name": "python",
   "nbconvert_exporter": "python",
   "pygments_lexer": "ipython3",
   "version": "3.11.7"
  }
 },
 "nbformat": 4,
 "nbformat_minor": 5
}
