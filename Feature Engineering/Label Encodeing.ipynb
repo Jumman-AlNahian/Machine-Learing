{
 "cells": [
  {
   "cell_type": "code",
   "execution_count": 2,
   "id": "515a6af1-31c7-47b3-93f3-fc80baeab6ef",
   "metadata": {},
   "outputs": [],
   "source": [
    "import pandas as pd"
   ]
  },
  {
   "cell_type": "code",
   "execution_count": 3,
   "id": "80a33ece-aac8-4979-b55d-4ab880ac57f3",
   "metadata": {},
   "outputs": [],
   "source": [
    "classes=['classA','classB','classC','classD','classE','classB','classC','classC','classA','classD','classE']"
   ]
  },
  {
   "cell_type": "code",
   "execution_count": 4,
   "id": "5223ad58-73d6-45df-b057-c9dad17e5f16",
   "metadata": {},
   "outputs": [],
   "source": [
    "df=pd.DataFrame(classes)"
   ]
  },
  {
   "cell_type": "code",
   "execution_count": 5,
   "id": "6f610e1c-7ffc-4ece-b8fd-e7cf766f628e",
   "metadata": {},
   "outputs": [
    {
     "data": {
      "text/html": [
       "<div>\n",
       "<style scoped>\n",
       "    .dataframe tbody tr th:only-of-type {\n",
       "        vertical-align: middle;\n",
       "    }\n",
       "\n",
       "    .dataframe tbody tr th {\n",
       "        vertical-align: top;\n",
       "    }\n",
       "\n",
       "    .dataframe thead th {\n",
       "        text-align: right;\n",
       "    }\n",
       "</style>\n",
       "<table border=\"1\" class=\"dataframe\">\n",
       "  <thead>\n",
       "    <tr style=\"text-align: right;\">\n",
       "      <th></th>\n",
       "      <th>0</th>\n",
       "    </tr>\n",
       "  </thead>\n",
       "  <tbody>\n",
       "    <tr>\n",
       "      <th>0</th>\n",
       "      <td>classA</td>\n",
       "    </tr>\n",
       "    <tr>\n",
       "      <th>1</th>\n",
       "      <td>classB</td>\n",
       "    </tr>\n",
       "    <tr>\n",
       "      <th>2</th>\n",
       "      <td>classC</td>\n",
       "    </tr>\n",
       "    <tr>\n",
       "      <th>3</th>\n",
       "      <td>classD</td>\n",
       "    </tr>\n",
       "    <tr>\n",
       "      <th>4</th>\n",
       "      <td>classE</td>\n",
       "    </tr>\n",
       "    <tr>\n",
       "      <th>5</th>\n",
       "      <td>classB</td>\n",
       "    </tr>\n",
       "    <tr>\n",
       "      <th>6</th>\n",
       "      <td>classC</td>\n",
       "    </tr>\n",
       "    <tr>\n",
       "      <th>7</th>\n",
       "      <td>classC</td>\n",
       "    </tr>\n",
       "    <tr>\n",
       "      <th>8</th>\n",
       "      <td>classA</td>\n",
       "    </tr>\n",
       "    <tr>\n",
       "      <th>9</th>\n",
       "      <td>classD</td>\n",
       "    </tr>\n",
       "    <tr>\n",
       "      <th>10</th>\n",
       "      <td>classE</td>\n",
       "    </tr>\n",
       "  </tbody>\n",
       "</table>\n",
       "</div>"
      ],
      "text/plain": [
       "         0\n",
       "0   classA\n",
       "1   classB\n",
       "2   classC\n",
       "3   classD\n",
       "4   classE\n",
       "5   classB\n",
       "6   classC\n",
       "7   classC\n",
       "8   classA\n",
       "9   classD\n",
       "10  classE"
      ]
     },
     "execution_count": 5,
     "metadata": {},
     "output_type": "execute_result"
    }
   ],
   "source": [
    "df"
   ]
  },
  {
   "cell_type": "code",
   "execution_count": 6,
   "id": "902f23d0-9e40-4cba-9a57-618ad4e95880",
   "metadata": {},
   "outputs": [],
   "source": [
    "from sklearn.preprocessing import LabelEncoder"
   ]
  },
  {
   "cell_type": "code",
   "execution_count": 7,
   "id": "6f296edd-2105-4591-a0b5-5dc300d54425",
   "metadata": {},
   "outputs": [],
   "source": [
    "label_encoder=LabelEncoder()"
   ]
  },
  {
   "cell_type": "code",
   "execution_count": 8,
   "id": "94b9414c-d651-406e-bec6-6bc2726eb9c9",
   "metadata": {},
   "outputs": [],
   "source": [
    "encoded=label_encoder.fit_transform(classes)\n",
    "orginal= label_encoder.inverse_transform(encoded)"
   ]
  },
  {
   "cell_type": "code",
   "execution_count": 12,
   "id": "3ebccc56-91db-4c50-864c-23399f3e7a55",
   "metadata": {},
   "outputs": [
    {
     "name": "stdout",
     "output_type": "stream",
     "text": [
      "Encoded data:  [0 1 2 3 4 1 2 2 0 3 4]\n",
      "Original/decoded data:  ['classA' 'classB' 'classC' 'classD' 'classE' 'classB' 'classC' 'classC'\n",
      " 'classA' 'classD' 'classE']\n"
     ]
    }
   ],
   "source": [
    "print(\"Encoded data: \", encoded)\n",
    "print(\"Original/decoded data: \", orginal)"
   ]
  },
  {
   "cell_type": "code",
   "execution_count": null,
   "id": "dfd18f9e-533f-40ad-a3ed-6e0c1a98397a",
   "metadata": {},
   "outputs": [],
   "source": []
  }
 ],
 "metadata": {
  "kernelspec": {
   "display_name": "Python 3 (ipykernel)",
   "language": "python",
   "name": "python3"
  },
  "language_info": {
   "codemirror_mode": {
    "name": "ipython",
    "version": 3
   },
   "file_extension": ".py",
   "mimetype": "text/x-python",
   "name": "python",
   "nbconvert_exporter": "python",
   "pygments_lexer": "ipython3",
   "version": "3.11.7"
  }
 },
 "nbformat": 4,
 "nbformat_minor": 5
}
