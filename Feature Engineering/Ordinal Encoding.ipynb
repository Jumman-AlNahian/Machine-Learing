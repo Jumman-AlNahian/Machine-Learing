{
 "cells": [
  {
   "cell_type": "code",
   "execution_count": 63,
   "id": "3a6bcb03-0d0e-4742-b298-f4ecf27d3c63",
   "metadata": {},
   "outputs": [],
   "source": [
    "import pandas as pd"
   ]
  },
  {
   "cell_type": "code",
   "execution_count": 64,
   "id": "92706f8f-7f57-42d1-8c16-855389a0cc9d",
   "metadata": {},
   "outputs": [],
   "source": [
    "from sklearn.preprocessing import OrdinalEncoder"
   ]
  },
  {
   "cell_type": "code",
   "execution_count": 65,
   "id": "8e4eef00-ba14-4585-a356-0fbe3dab2a1e",
   "metadata": {},
   "outputs": [],
   "source": [
    "data=[['Excellent'],['Very Good'], ['Good'], ['bad'], ['very bad'],['foolish'],['bad'],['Good'],['foolish'],[ 'Very Good'],['Excellent'],['very bad']]"
   ]
  },
  {
   "cell_type": "code",
   "execution_count": 66,
   "id": "c1b378c7-824e-4513-8f0a-3c9955500707",
   "metadata": {},
   "outputs": [],
   "source": [
    "df=pd.DataFrame(data,columns=['order'])"
   ]
  },
  {
   "cell_type": "code",
   "execution_count": 67,
   "id": "62547bf3-e61e-473b-8530-9a41841c26fd",
   "metadata": {},
   "outputs": [
    {
     "data": {
      "text/html": [
       "<div>\n",
       "<style scoped>\n",
       "    .dataframe tbody tr th:only-of-type {\n",
       "        vertical-align: middle;\n",
       "    }\n",
       "\n",
       "    .dataframe tbody tr th {\n",
       "        vertical-align: top;\n",
       "    }\n",
       "\n",
       "    .dataframe thead th {\n",
       "        text-align: right;\n",
       "    }\n",
       "</style>\n",
       "<table border=\"1\" class=\"dataframe\">\n",
       "  <thead>\n",
       "    <tr style=\"text-align: right;\">\n",
       "      <th></th>\n",
       "      <th>order</th>\n",
       "    </tr>\n",
       "  </thead>\n",
       "  <tbody>\n",
       "    <tr>\n",
       "      <th>0</th>\n",
       "      <td>Excellent</td>\n",
       "    </tr>\n",
       "    <tr>\n",
       "      <th>1</th>\n",
       "      <td>Very Good</td>\n",
       "    </tr>\n",
       "    <tr>\n",
       "      <th>2</th>\n",
       "      <td>Good</td>\n",
       "    </tr>\n",
       "    <tr>\n",
       "      <th>3</th>\n",
       "      <td>bad</td>\n",
       "    </tr>\n",
       "    <tr>\n",
       "      <th>4</th>\n",
       "      <td>very bad</td>\n",
       "    </tr>\n",
       "    <tr>\n",
       "      <th>5</th>\n",
       "      <td>foolish</td>\n",
       "    </tr>\n",
       "    <tr>\n",
       "      <th>6</th>\n",
       "      <td>bad</td>\n",
       "    </tr>\n",
       "    <tr>\n",
       "      <th>7</th>\n",
       "      <td>Good</td>\n",
       "    </tr>\n",
       "    <tr>\n",
       "      <th>8</th>\n",
       "      <td>foolish</td>\n",
       "    </tr>\n",
       "    <tr>\n",
       "      <th>9</th>\n",
       "      <td>Very Good</td>\n",
       "    </tr>\n",
       "    <tr>\n",
       "      <th>10</th>\n",
       "      <td>Excellent</td>\n",
       "    </tr>\n",
       "    <tr>\n",
       "      <th>11</th>\n",
       "      <td>very bad</td>\n",
       "    </tr>\n",
       "  </tbody>\n",
       "</table>\n",
       "</div>"
      ],
      "text/plain": [
       "        order\n",
       "0   Excellent\n",
       "1   Very Good\n",
       "2        Good\n",
       "3         bad\n",
       "4    very bad\n",
       "5     foolish\n",
       "6         bad\n",
       "7        Good\n",
       "8     foolish\n",
       "9   Very Good\n",
       "10  Excellent\n",
       "11   very bad"
      ]
     },
     "execution_count": 67,
     "metadata": {},
     "output_type": "execute_result"
    }
   ],
   "source": [
    "df"
   ]
  },
  {
   "cell_type": "code",
   "execution_count": 68,
   "id": "29767e90-84a8-4052-9038-e5ac24b4fb58",
   "metadata": {},
   "outputs": [],
   "source": [
    "order=[['Excellent','Very Good', 'Good', 'bad', 'very bad','foolish']]"
   ]
  },
  {
   "cell_type": "code",
   "execution_count": 69,
   "id": "0413ad75-cf64-41f7-840e-bd8187132986",
   "metadata": {},
   "outputs": [
    {
     "data": {
      "text/plain": [
       "[['Excellent', 'Very Good', 'Good', 'bad', 'very bad', 'foolish']]"
      ]
     },
     "execution_count": 69,
     "metadata": {},
     "output_type": "execute_result"
    }
   ],
   "source": [
    "order"
   ]
  },
  {
   "cell_type": "code",
   "execution_count": 70,
   "id": "0a8cc0c8-a0e7-46e3-827c-a743baf43f5b",
   "metadata": {},
   "outputs": [],
   "source": [
    "ordinalEncoder=OrdinalEncoder(categories=order)"
   ]
  },
  {
   "cell_type": "code",
   "execution_count": 71,
   "id": "114c5001-5d81-4b20-a406-540859c44c78",
   "metadata": {},
   "outputs": [],
   "source": [
    "encode=ordinalEncoder.fit_transform(data)"
   ]
  },
  {
   "cell_type": "code",
   "execution_count": 72,
   "id": "3a40e266-8f87-45d5-bceb-1051ba8a397b",
   "metadata": {},
   "outputs": [
    {
     "data": {
      "text/plain": [
       "array([[0.],\n",
       "       [1.],\n",
       "       [2.],\n",
       "       [3.],\n",
       "       [4.],\n",
       "       [5.],\n",
       "       [3.],\n",
       "       [2.],\n",
       "       [5.],\n",
       "       [1.],\n",
       "       [0.],\n",
       "       [4.]])"
      ]
     },
     "execution_count": 72,
     "metadata": {},
     "output_type": "execute_result"
    }
   ],
   "source": [
    "encode"
   ]
  },
  {
   "cell_type": "code",
   "execution_count": null,
   "id": "72f2d7a9-4818-4091-ac26-5dd81e48241b",
   "metadata": {},
   "outputs": [],
   "source": []
  }
 ],
 "metadata": {
  "kernelspec": {
   "display_name": "Python 3 (ipykernel)",
   "language": "python",
   "name": "python3"
  },
  "language_info": {
   "codemirror_mode": {
    "name": "ipython",
    "version": 3
   },
   "file_extension": ".py",
   "mimetype": "text/x-python",
   "name": "python",
   "nbconvert_exporter": "python",
   "pygments_lexer": "ipython3",
   "version": "3.11.7"
  }
 },
 "nbformat": 4,
 "nbformat_minor": 5
}
